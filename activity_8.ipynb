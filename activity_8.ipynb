```python
from utils import *

import time
import numpy as np
```
