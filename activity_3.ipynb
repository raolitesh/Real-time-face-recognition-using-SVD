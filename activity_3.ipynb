{
 "cells": [
  {
   "cell_type": "markdown",
   "id": "50eb6b4e",
   "metadata": {},
   "source": [
    "# Activity 3"
   ]
  },
  {
   "cell_type": "code",
   "execution_count": 1,
   "id": "825561e9",
   "metadata": {},
   "outputs": [],
   "source": [
    "from PIL import Image\n",
    "import matplotlib.pyplot as plt\n",
    "import os\n",
    "import numpy as np\n",
    "from simple_colors import *\n",
    "import pandas as pd\n",
    "from numpy import asarray"
   ]
  },
  {
   "cell_type": "code",
   "execution_count": 2,
   "id": "807461ee",
   "metadata": {},
   "outputs": [],
   "source": [
    "# Dividing the dataset\n",
    "# dataset unknown contains normal, happy, noglasses, rightlight, leftlight\n",
    "# dataset known contains all other images\n",
    "\n",
    "path = 'data'\n",
    "images = os.listdir(path)\n",
    "for i in images:\n",
    "    x = Image.open(os.path.join(path,i))\n",
    "    if i.endswith(('.rightlight', '.normal', '.leftlight', '.happy', '.noglasses')):\n",
    "        x.save('./unknown/{}.gif'.format(i))\n",
    "    else:\n",
    "        x.save('./known/{}.gif'.format(i))"
   ]
  },
  {
   "cell_type": "code",
   "execution_count": null,
   "id": "0b1e0551",
   "metadata": {},
   "outputs": [],
   "source": []
  }
 ],
 "metadata": {
  "kernelspec": {
   "display_name": "Python 3 (ipykernel)",
   "language": "python",
   "name": "python3"
  },
  "language_info": {
   "codemirror_mode": {
    "name": "ipython",
    "version": 3
   },
   "file_extension": ".py",
   "mimetype": "text/x-python",
   "name": "python",
   "nbconvert_exporter": "python",
   "pygments_lexer": "ipython3",
   "version": "3.9.13"
  }
 },
 "nbformat": 4,
 "nbformat_minor": 5
}
